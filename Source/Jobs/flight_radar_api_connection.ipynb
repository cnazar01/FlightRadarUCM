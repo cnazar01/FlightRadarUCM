{
 "cells": [
  {
   "cell_type": "markdown",
   "id": "56140fba",
   "metadata": {},
   "source": [
    "# Installation"
   ]
  },
  {
   "cell_type": "code",
   "execution_count": null,
   "id": "7ea6e470",
   "metadata": {},
   "outputs": [],
   "source": [
    "from fr24sdk.client import Client\n",
    "from dotenv import load_dotenv, find_dotenv\n",
    "import os\n",
    "from datetime import datetime\n",
    "from fr24sdk.models.flight import FlightPositionsLight\n",
    "from datetime import datetime, timezone\n",
    "from typing import List, Optional\n",
    "\n",
    "\n",
    "# Option A: token from FR24_API_TOKEN env var\n",
    "\n",
    "# load variables from .env into process env\n",
    "load_dotenv(find_dotenv(), override=True)\n",
    "\n",
    "token = os.getenv(\"FR24_API_TOKEN\")\n",
    "if not token:\n",
    "    raise RuntimeError(\"FR24_API_TOKEN not found. Check your .env or environment.\")\n",
    "\n",
    "client = Client(token)"
   ]
  },
  {
   "cell_type": "markdown",
   "id": "b60c5ae1",
   "metadata": {},
   "source": [
    "## Environmental Variables"
   ]
  },
  {
   "cell_type": "code",
   "execution_count": 17,
   "id": "beb4c16f",
   "metadata": {},
   "outputs": [],
   "source": [
    "flight_id = [\"AM1740\"]\n",
    "airport_explored = \"TPA\"\n",
    "direction = \"both\"  # or \"inbound\" or \"outbound\"\n",
    "airports_filter = [f\"{direction}:{airport_explored}\"]"
   ]
  },
  {
   "cell_type": "markdown",
   "id": "70d86a15",
   "metadata": {},
   "source": [
    "## Airports"
   ]
  },
  {
   "cell_type": "code",
   "execution_count": null,
   "id": "1d9b2464",
   "metadata": {},
   "outputs": [
    {
     "name": "stdout",
     "output_type": "stream",
     "text": [
      "icao='MHPR' iata='XPL' name='Tegucigalpa Palmerola International Airport'\n"
     ]
    }
   ],
   "source": [
    "with Client() as client:\n",
    "    airport = client.airports.get_light(\"TPA\")\n",
    "    print(airport)"
   ]
  },
  {
   "cell_type": "markdown",
   "id": "36fbf7df",
   "metadata": {},
   "source": [
    "## Live Flights"
   ]
  },
  {
   "cell_type": "code",
   "execution_count": 21,
   "id": "63ccf9c0",
   "metadata": {},
   "outputs": [
    {
     "name": "stdout",
     "output_type": "stream",
     "text": [
      "data=[FlightPositionsLight(fr24_id='3c22be5f', lat=50.42895, lon=-43.45451, track=74, alt=39000, gspeed=577, vspeed=0, squawk='2337', timestamp='2025-09-10T06:35:27Z', source='ESTIMATED', hex='407ED8', callsign='VIR130C')]\n"
     ]
    }
   ],
   "source": [
    "with Client() as client:\n",
    "    flight_positions = client.live.flight_positions.get_light(airports=airports_filter, limit=1)\n",
    "    print(flight_positions)"
   ]
  },
  {
   "cell_type": "markdown",
   "id": "ba1b0812",
   "metadata": {},
   "source": [
    "## Flight Summary"
   ]
  },
  {
   "cell_type": "code",
   "execution_count": 18,
   "id": "087d4caf",
   "metadata": {},
   "outputs": [
    {
     "name": "stdout",
     "output_type": "stream",
     "text": [
      "data=[FlightSummaryLight(fr24_id='3c29dee1', flight='AM1740', callsign='AMX1740', operating_as='AMX', painted_as='AMX', type='B38M', reg='XA-GNS', orig_icao='MMMX', datetime_takeoff='2025-09-11T20:55:46Z', dest_icao='KTPA', dest_icao_actual='KTPA', datetime_landed=None, hex='0D0EB6', first_seen='2025-09-11T20:43:09Z', last_seen='2025-09-11T23:04:09Z', flight_ended=False)]\n"
     ]
    }
   ],
   "source": [
    "with Client() as client:\n",
    "    flight_summary = client.flight_summary.get_light(flights=flight_id,\n",
    "        flight_datetime_from= datetime(2025,9,11,00,00,00),\n",
    "        flight_datetime_to= datetime(2025,9,11,23,59,59)\n",
    "        )\n",
    "    print(flight_summary)"
   ]
  },
  {
   "cell_type": "markdown",
   "id": "cd24e169",
   "metadata": {},
   "source": [
    "## Flight Events"
   ]
  },
  {
   "cell_type": "code",
   "execution_count": 19,
   "id": "93b1beec",
   "metadata": {},
   "outputs": [
    {
     "name": "stdout",
     "output_type": "stream",
     "text": [
      "data=[FlightEventsLight(fr24_id='3c29dee1', callsign='AMX1740', hex='0D0EB6', events=[FlightEvent(type='gate_departure', timestamp='2025-09-11T20:45:01Z', lat=None, lon=None, alt=None, gspeed=None, details=GateDetails(gate_ident='P83', gate_lat=19.42506, gate_lon=-99.0837)), FlightEvent(type='takeoff', timestamp='2025-09-11T20:55:46Z', lat=None, lon=None, alt=None, gspeed=None, details=TakeoffDetails(takeoff_runway='05L')), FlightEvent(type='cruising', timestamp='2025-09-11T21:22:06Z', lat=18.3663, lon=-97.42211, alt=37000, gspeed=452, details=None), FlightEvent(type='airspace_transition', timestamp='2025-09-11T22:50:46Z', lat=24.34893, lon=-87.3828, alt=37000, gspeed=482, details=AirspaceDetails(exited_airspace='MEXICO FIR', exited_airspace_id='MMFR', entered_airspace='HOUSTON OCEANIC FIR', entered_airspace_id='KZHU'))])]\n"
     ]
    }
   ],
   "source": [
    "with Client() as client:\n",
    "    flight_events = client.historic.flight_events.get_light(\n",
    "        flight_ids=[\"3c29dee1\"],\n",
    "        event_types=[\"all\"]\n",
    "    )\n",
    "    print(flight_events)"
   ]
  }
 ],
 "metadata": {
  "kernelspec": {
   "display_name": ".venv",
   "language": "python",
   "name": "python3"
  },
  "language_info": {
   "codemirror_mode": {
    "name": "ipython",
    "version": 3
   },
   "file_extension": ".py",
   "mimetype": "text/x-python",
   "name": "python",
   "nbconvert_exporter": "python",
   "pygments_lexer": "ipython3",
   "version": "3.11.9"
  }
 },
 "nbformat": 4,
 "nbformat_minor": 5
}
