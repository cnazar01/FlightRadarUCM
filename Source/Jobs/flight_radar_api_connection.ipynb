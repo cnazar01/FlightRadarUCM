{
 "cells": [
  {
   "cell_type": "markdown",
   "id": "56140fba",
   "metadata": {},
   "source": [
    "# Installation"
   ]
  },
  {
   "cell_type": "code",
   "execution_count": 3,
   "id": "7ea6e470",
   "metadata": {},
   "outputs": [],
   "source": [
    "from fr24sdk.client import Client\n",
    "from dotenv import load_dotenv, find_dotenv\n",
    "import os\n",
    "from datetime import datetime\n",
    "from fr24sdk.models.flight import FlightPositionsLight\n",
    "from datetime import datetime, timezone\n",
    "from typing import List, Optional\n",
    "\n",
    "\n",
    "# Option A: token from FR24_API_TOKEN env var\n",
    "\n",
    "# load variables from .env into process env\n",
    "load_dotenv(find_dotenv(), override=True)\n",
    "\n",
    "token = os.getenv(\"FR24_API_TOKEN\")\n",
    "if not token:\n",
    "    raise RuntimeError(\"FR24_API_TOKEN not found. Check your .env or environment.\")\n",
    "\n",
    "client = Client(token)"
   ]
  },
  {
   "cell_type": "markdown",
   "id": "b60c5ae1",
   "metadata": {},
   "source": [
    "## Environmental Variables"
   ]
  },
  {
   "cell_type": "code",
   "execution_count": 26,
   "id": "beb4c16f",
   "metadata": {},
   "outputs": [],
   "source": [
    "flight_id = [\"E9805\"]\n",
    "callsign = [\"EVE805\"]\n",
    "fr24_id=['3c3c0b30']\n",
    "airport_explored = \"MAD\"\n",
    "direction = \"both\"  # or \"inbound\" or \"outbound\"\n",
    "airports_filter = [f\"{direction}:{airport_explored}\"]"
   ]
  },
  {
   "cell_type": "markdown",
   "id": "70d86a15",
   "metadata": {},
   "source": [
    "## Airports"
   ]
  },
  {
   "cell_type": "code",
   "execution_count": 6,
   "id": "1d9b2464",
   "metadata": {},
   "outputs": [
    {
     "name": "stdout",
     "output_type": "stream",
     "text": [
      "icao='MHPR' iata='XPL' name='Tegucigalpa Palmerola International Airport'\n"
     ]
    }
   ],
   "source": [
    "with Client() as client:\n",
    "    airport = client.airports.get_light(airport_explored)\n",
    "    print(airport)"
   ]
  },
  {
   "cell_type": "markdown",
   "id": "36fbf7df",
   "metadata": {},
   "source": [
    "## Live Flights"
   ]
  },
  {
   "cell_type": "code",
   "execution_count": 18,
   "id": "63ccf9c0",
   "metadata": {},
   "outputs": [
    {
     "name": "stdout",
     "output_type": "stream",
     "text": [
      "data=[FlightPositionsLight(fr24_id='3c3b9c28', lat=19.48095, lon=-74.82913, track=234, alt=41000, gspeed=486, vspeed=0, squawk='7254', timestamp='2025-09-16T20:52:41Z', source='ADSB', hex='346390', callsign='EVE805')]\n"
     ]
    }
   ],
   "source": [
    "with Client() as client:\n",
    "    flight_positions = client.live.flight_positions.get_light(airports=airports_filter, limit=1)\n",
    "    print(flight_positions)"
   ]
  },
  {
   "cell_type": "markdown",
   "id": "ba1b0812",
   "metadata": {},
   "source": [
    "## Flight Summary"
   ]
  },
  {
   "cell_type": "code",
   "execution_count": 27,
   "id": "087d4caf",
   "metadata": {},
   "outputs": [
    {
     "name": "stdout",
     "output_type": "stream",
     "text": [
      "data=[FlightSummaryLight(fr24_id='3c3b9c28', flight='E9805', callsign='EVE805', operating_as='EVE', painted_as='EVE', type='A359', reg='EC-NGY', orig_icao='LEMD', datetime_takeoff='2025-09-16T12:53:52Z', dest_icao='MHPR', dest_icao_actual='MHPR', datetime_landed=None, hex='346390', first_seen='2025-09-16T12:37:21Z', last_seen='2025-09-16T22:30:54Z', flight_ended=False)]\n"
     ]
    }
   ],
   "source": [
    "with Client() as client:\n",
    "    flight_summary = client.flight_summary.get_light(flights=flight_id,\n",
    "        flight_datetime_from= datetime(2025,9,16,00,00,00),\n",
    "        flight_datetime_to= datetime(2025,9,16,23,59,59)\n",
    "        )\n",
    "    print(flight_summary)"
   ]
  },
  {
   "cell_type": "code",
   "execution_count": 25,
   "id": "f9844cc9",
   "metadata": {},
   "outputs": [
    {
     "name": "stdout",
     "output_type": "stream",
     "text": [
      "data=[FlightSummaryLight(fr24_id='3c3b9c28', flight='E9805', callsign='EVE805', operating_as='EVE', painted_as='EVE', type='A359', reg='EC-NGY', orig_icao='LEMD', datetime_takeoff='2025-09-16T12:53:52Z', dest_icao='MHPR', dest_icao_actual='MHPR', datetime_landed=None, hex='346390', first_seen='2025-09-16T12:37:21Z', last_seen='2025-09-16T22:30:54Z', flight_ended=False)]\n"
     ]
    }
   ],
   "source": [
    "with Client() as client:\n",
    "    flight_summary = client.flight_summary.get_light(callsigns=callsign,\n",
    "        flight_datetime_from= datetime(2025,9,16,00,00,00),\n",
    "        flight_datetime_to= datetime(2025,9,16,23,59,59)\n",
    "        )\n",
    "    print(flight_summary)"
   ]
  },
  {
   "cell_type": "markdown",
   "id": "cd24e169",
   "metadata": {},
   "source": [
    "## Historic Flight Events"
   ]
  },
  {
   "cell_type": "code",
   "execution_count": 13,
   "id": "93b1beec",
   "metadata": {},
   "outputs": [
    {
     "name": "stdout",
     "output_type": "stream",
     "text": [
      "data=[FlightEventsLight(fr24_id='3c3c0b30', callsign='UAL518', hex='A126EB', events=[FlightEvent(type='takeoff', timestamp='2025-09-16T14:41:15Z', lat=None, lon=None, alt=None, gspeed=None, details=TakeoffDetails(takeoff_runway='15L')), FlightEvent(type='airspace_transition', timestamp='2025-09-16T15:02:25Z', lat=27.98033, lon=-94.43633, alt=33450, gspeed=503, details=AirspaceDetails(exited_airspace='HOUSTON ARTCC', exited_airspace_id='KZHU', entered_airspace='HOUSTON OCEANIC FIR', entered_airspace_id='KZHU')), FlightEvent(type='cruising', timestamp='2025-09-16T15:08:42Z', lat=27.37148, lon=-94.15144, alt=37000, gspeed=502, details=None), FlightEvent(type='airspace_transition', timestamp='2025-09-16T16:25:00Z', lat=17.81295, lon=-90.1123, alt=37000, gspeed=449, details=AirspaceDetails(exited_airspace='MEXICO FIR', exited_airspace_id='MMFR', entered_airspace='CENTRAL AMERICA UIR', entered_airspace_id='MHCC')), FlightEvent(type='descent', timestamp='2025-09-16T16:49:55Z', lat=15.29031, lon=-88.18355, alt=36875, gspeed=450, details=None), FlightEvent(type='airspace_transition', timestamp='2025-09-16T16:58:12Z', lat=14.49193, lon=-87.5779, alt=18850, gspeed=390, details=AirspaceDetails(exited_airspace='CENTRAL AMERICA UIR', exited_airspace_id='MHCC', entered_airspace='CENTRAL AMERICA FIR', entered_airspace_id='MHCC')), FlightEvent(type='landed', timestamp='2025-09-16T17:14:32Z', lat=None, lon=None, alt=None, gspeed=None, details=LandingDetails(landed_icao='MHPR', landed_runway='35')), FlightEvent(type='gate_arrival', timestamp='2025-09-16T17:17:56Z', lat=None, lon=None, alt=None, gspeed=None, details=GateDetails(gate_ident='15', gate_lat=14.39179, gate_lon=-87.61861))])]\n"
     ]
    }
   ],
   "source": [
    "with Client() as client:\n",
    "    flight_events = client.historic.flight_events.get_light(\n",
    "        flight_ids=fr24_id,\n",
    "        event_types=[\"all\"]\n",
    "    )\n",
    "    print(flight_events)"
   ]
  }
 ],
 "metadata": {
  "kernelspec": {
   "display_name": ".venv",
   "language": "python",
   "name": "python3"
  },
  "language_info": {
   "codemirror_mode": {
    "name": "ipython",
    "version": 3
   },
   "file_extension": ".py",
   "mimetype": "text/x-python",
   "name": "python",
   "nbconvert_exporter": "python",
   "pygments_lexer": "ipython3",
   "version": "3.11.9"
  }
 },
 "nbformat": 4,
 "nbformat_minor": 5
}
